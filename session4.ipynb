{
  "cells": [
    {
      "cell_type": "markdown",
      "metadata": {
        "id": "WqJ669FyuohB"
      },
      "source": [
        "# Python class session no.4\n",
        "\n",
        "### Author: Grzegorz Sochaj"
      ]
    },
    {
      "cell_type": "markdown",
      "metadata": {
        "id": "Piix85xCuohD"
      },
      "source": [
        "# Topic 1: A little about myself\n",
        "### Main things about me:\n",
        "- Business analyst as Cisco\n",
        "- Working on scripts, data analysis, dashboards etc.\n",
        "- Interested in script programming and Data Science\n",
        "\n",
        "You can freely reach out to me via LinkedIn or any SM!"
      ]
    },
    {
      "cell_type": "markdown",
      "metadata": {
        "id": "QMAZ5E7_uohD"
      },
      "source": [
        "# Topic 2: Homework check!\n"
      ]
    },
    {
      "cell_type": "markdown",
      "metadata": {
        "id": "QMAZ5E7_uohD"
      },
      "source": [
        "# Topic 2,5: Quick revision!\n"
      ]
    },
    {
      "cell_type": "markdown",
      "metadata": {},
      "source": [
        "1. Data types (integers, floats, strings and booleans)\n",
        "2. Collections - ***lists***, ***tuples*** and ***sets***\n",
        "3. Loops - ***for*** and ***while*** (iterating over multiple collections)\n",
        "4. F-string formatting"
      ]
    },
    {
      "cell_type": "markdown",
      "metadata": {},
      "source": [
        "### Collections"
      ]
    },
    {
      "cell_type": "code",
      "execution_count": 26,
      "metadata": {},
      "outputs": [
        {
          "name": "stdout",
          "output_type": "stream",
          "text": [
            "{'pies', 'kot'}\n",
            "('kot', 'pies', 'kot')\n",
            "['kot', 'pies', 'kot']\n",
            "kot pies kot\n",
            "kot pies kot\n"
          ]
        }
      ],
      "source": [
        "sample_set = set(['kot','pies','kot'])\n",
        "print(sample_set)\n",
        "\n",
        "sample_tuple = ('kot','pies','kot')\n",
        "print(sample_tuple)\n",
        "\n",
        "sample_list = ['kot','pies','kot']\n",
        "print(sample_list)\n",
        "\n",
        "x,y,z = sample_tuple\n",
        "print(x,y,z)\n",
        "\n",
        "x,y,z = sample_list\n",
        "print(x,y,z)\n"
      ]
    },
    {
      "cell_type": "markdown",
      "metadata": {},
      "source": [
        "### Loops"
      ]
    },
    {
      "cell_type": "code",
      "execution_count": 30,
      "metadata": {},
      "outputs": [
        {
          "name": "stdout",
          "output_type": "stream",
          "text": [
            "0 kot\n",
            "1 pies\n",
            "2 kot\n",
            "Ryszard Nikiel Engineer - IT\n",
            "Grzegorz Sochaj Business Analyst\n",
            "Fabrizio Moura Technical Consulting Engineer\n"
          ]
        }
      ],
      "source": [
        "for i, item in enumerate(sample_list):\n",
        "    print(i, item)\n",
        "\n",
        "names_list = ['Ryszard','Grzegorz','Fabrizio']\n",
        "surnames_list = ['Nikiel','Sochaj','Moura']\n",
        "job_role = ['Engineer - IT', 'Business Analyst', 'Technical Consulting Engineer']\n",
        "for name, surname, role in zip(names_list,surnames_list, job_role):\n",
        "    print(name, surname, role)"
      ]
    },
    {
      "cell_type": "markdown",
      "metadata": {},
      "source": [
        "### F-string formatting"
      ]
    },
    {
      "cell_type": "code",
      "execution_count": 35,
      "metadata": {},
      "outputs": [
        {
          "name": "stdout",
          "output_type": "stream",
          "text": [
            "Battlefield 2042 currently sits at 9th place in Steam's worst-ratted games with 27.0% of negative opinions!\n",
            "\n",
            "\n",
            "Battlefield 2042 currently sits at 9th place in Steam's worst-ratted games with 27.0% of negative opinions!\n",
            "BibbleThump EA DICE\n"
          ]
        }
      ],
      "source": [
        "game_name = \"Battlefield 2042\"\n",
        "game_place = 9\n",
        "negative_opinions = 0.27\n",
        "\n",
        "print(f\"{game_name} currently sits at {game_place}th place in Steam's worst-ratted games with {negative_opinions*100}% of negative opinions!\\n\")\n",
        "\n",
        "print(f'''\n",
        "{game_name} currently sits at {game_place}th place in Steam's worst-ratted games with {negative_opinions*100}% of negative opinions!\n",
        "BibbleThump EA DICE''')"
      ]
    },
    {
      "cell_type": "markdown",
      "metadata": {
        "id": "ma4l_LPbuohE"
      },
      "source": [
        "# Topic 3: Dictionaries!\n",
        "1. The idea of dictionaries.\n",
        "2. How to make dictionaries?\n",
        "3. More advanced dictionaries - JSON files.\n",
        "4. Practical use of dictionaries using previous homework."
      ]
    },
    {
      "cell_type": "markdown",
      "metadata": {
        "id": "V5TJq74luohE"
      },
      "source": [
        "## 3.1. The idea of dictionaries."
      ]
    },
    {
      "cell_type": "markdown",
      "metadata": {
        "id": "jYDD-GFYuohE"
      },
      "source": [
        "- Dictionaries are used to store data values in **key:value pairs**. \n",
        "- Dictionaries are collections which are **ordered** (*from Python 3.7*), **changable** and **do not allow any duplicates**. \n",
        "- Dictionaries are made using curly brackets **'{}'**.\n",
        "- **No indexation**."
      ]
    },
    {
      "cell_type": "markdown",
      "metadata": {
        "id": "ICXuGOcKuohF"
      },
      "source": [
        "## 3.2. How to make dictionaries?"
      ]
    },
    {
      "cell_type": "code",
      "execution_count": null,
      "metadata": {
        "id": "yN3L25FjuohF"
      },
      "outputs": [],
      "source": [
        "sample_dict = {\n",
        "    'some key' : 'some_value',\n",
        "    'some second key' : 'some second value'\n",
        "}\n",
        "\n",
        "sample_dict_int = {\n",
        "    'some key' : 2021,\n",
        "    'some second key' : 'some second value'\n",
        "}\n",
        "\n",
        "sample_dict_flt = {\n",
        "    'some key' : 42.0,\n",
        "    'some second key' : 'some second value'\n",
        "}\n",
        "\n",
        "sample_dict_list = {\n",
        "    'some key' : [12,'some string',420],\n",
        "    'some second key' : 'some second value'\n",
        "}\n",
        "\n",
        "sample_dict_set = {\n",
        "    'some key' : set([12,2,3]),\n",
        "    'some second key' : 'some second value'\n",
        "}\n",
        "\n",
        "sample_dict_dicts = {\n",
        "    'some key' : {\n",
        "        'cat' : 'kitty',\n",
        "        'dog' : 'doggo'\n",
        "    },\n",
        "    'some second key' : {\n",
        "        'phone' : 'phonie',\n",
        "        'computer' : 'PC'\n",
        "    }\n",
        "}"
      ]
    },
    {
      "cell_type": "code",
      "execution_count": null,
      "metadata": {
        "colab": {
          "base_uri": "https://localhost:8080/"
        },
        "id": "Oa198-8PuohG",
        "outputId": "1ef2bc01-b8f4-4364-e9a4-404bf6671ba6"
      },
      "outputs": [
        {
          "name": "stdout",
          "output_type": "stream",
          "text": [
            "*Main rules of dictionaries:\n",
            " - Printing dictionary => {'some key': 'some_value', 'some second key': 'some second value'}\n",
            " - Printing keys => dict_keys(['some key', 'some second key'])\n",
            " - Printing values => dict_values(['some_value', 'some second value'])\n",
            " - Printing dictionary length => 2\n",
            " - Type of keys or values => <class 'dict_keys'>\n",
            " - Accessing the dict values => some_value\n",
            " \n",
            "*New added value to the dictionary => {'some key': 'some_value', 'some second key': 'some second value', 'new key': 'new value'}\n",
            "\n",
            "*Poping value from dictionary using key => new value\n",
            "Dictionary after poping out the value => {'some key': 'some_value', 'some second key': 'some second value'}\n"
          ]
        },
        {
          "data": {
            "text/plain": [
              "2021"
            ]
          },
          "execution_count": 2,
          "metadata": {},
          "output_type": "execute_result"
        }
      ],
      "source": [
        "print(f'''*Main rules of dictionaries:\n",
        " - Printing dictionary => {sample_dict}\n",
        " - Printing keys => {sample_dict.keys()}\n",
        " - Printing values => {sample_dict.values()}\n",
        " - Printing dictionary length => {len(sample_dict)}\n",
        " - Type of keys or values => {type(sample_dict.keys())}\n",
        " - Accessing the dict values => {sample_dict['some key']}\n",
        " ''')\n",
        "\n",
        " # Adding new value to the dictionary\n",
        "sample_dict['new key'] = 'new value'\n",
        "print(f\"*New added value to the dictionary => {sample_dict}\\n\")\n",
        "\n",
        "# Poping out the value with the key\n",
        "print(f\"*Poping value from dictionary using key => {sample_dict.pop('new key')}\")\n",
        "print(f\"Dictionary after poping out the value => {sample_dict}\")\n",
        "\n",
        "# Useful comands are also:\n",
        "sample_dict.clear() # which clears the dictionary and leaves it empty\n",
        "\n",
        "sample_dict.copy() # which creates a copy of the dictionary\n",
        "\n",
        "sample_dict_int.get('some key') # which gets the value of the key"
      ]
    },
    {
      "cell_type": "markdown",
      "metadata": {
        "id": "VmivRVAGuohH"
      },
      "source": [
        "## 3.3. More advanced dictionaries - JSON files.\n"
      ]
    },
    {
      "cell_type": "markdown",
      "metadata": {},
      "source": [
        "### Example from work:"
      ]
    },
    {
      "cell_type": "code",
      "execution_count": null,
      "metadata": {
        "colab": {
          "base_uri": "https://localhost:8080/"
        },
        "id": "DFkTBRYkuohH",
        "outputId": "62909b98-8611-4e0f-ba8f-f3b149d16481"
      },
      "outputs": [
        {
          "data": {
            "text/plain": [
              "{'data': [{'answers': [\"Hmmm... I don't know. I'm never hungry so I think I can't help you :(\",\n",
              "    'You can eat whatever you like! Maybe lobster with caviar on top?',\n",
              "    \"Hmmm... hamburger? I don't need to eat so I can't help you :(\"],\n",
              "   'intent': 'agent.eating',\n",
              "   'utterances': ['what is for dinner',\n",
              "    'what should i eat',\n",
              "    'what to eat today',\n",
              "    'supper',\n",
              "    'what should i eat on lunch',\n",
              "    'breakfast',\n",
              "    'lunch',\n",
              "    'i want to eat',\n",
              "    'i want to eat something',\n",
              "    'tell me what to eat',\n",
              "    'what should i prepare for dinner',\n",
              "    'predict what should i eat']},\n",
              "  {'answers': [\"Indeed I am. I'll be here whenever you need me. Ask me what I can do for you!\"],\n",
              "   'intent': 'agent.chatbot',\n",
              "   'utterances': ['are you a bot',\n",
              "    'are you a chatbot',\n",
              "    'you are a robot',\n",
              "    'are you a program',\n",
              "    'you are just a robot',\n",
              "    'you are just a chatbot']}],\n",
              " 'locale': 'en-US',\n",
              " 'name': 'Corpus'}"
            ]
          },
          "execution_count": 3,
          "metadata": {},
          "output_type": "execute_result"
        }
      ],
      "source": [
        "{\n",
        "  \"name\": \"Corpus\",\n",
        "  \"locale\": \"en-US\",\n",
        "  \"data\": [\n",
        "      {\n",
        "      \"intent\": \"agent.eating\",\n",
        "      \"utterances\": [\n",
        "        \"what is for dinner\",\n",
        "        \"what should i eat\",\n",
        "        \"what to eat today\",\n",
        "        \"supper\",\n",
        "        \"what should i eat on lunch\",\n",
        "        \"breakfast\",\n",
        "        \"lunch\",\n",
        "        \"i want to eat\",\n",
        "        \"i want to eat something\",\n",
        "        \"tell me what to eat\",\n",
        "        \"what should i prepare for dinner\",\n",
        "        \"predict what should i eat\"\n",
        "      ],\n",
        "      \"answers\": [\n",
        "        \"Hmmm... I don't know. I'm never hungry so I think I can't help you :(\",\n",
        "        \"You can eat whatever you like! Maybe lobster with caviar on top?\",\n",
        "        \"Hmmm... hamburger? I don't need to eat so I can't help you :(\"\n",
        "      ]\n",
        "    },\n",
        "    {\n",
        "      \"intent\": \"agent.chatbot\",\n",
        "      \"utterances\": [\n",
        "        \"are you a bot\",\n",
        "        \"are you a chatbot\",\n",
        "        \"you are a robot\",\n",
        "        \"are you a program\",\n",
        "        \"you are just a robot\",\n",
        "        \"you are just a chatbot\"\n",
        "      ],\n",
        "      \"answers\": [\n",
        "        \"Indeed I am. I'll be here whenever you need me. Ask me what I can do for you!\"\n",
        "      ]\n",
        "    }]\n",
        "}"
      ]
    },
    {
      "cell_type": "markdown",
      "metadata": {},
      "source": [
        "### Example from Riot Games API:"
      ]
    },
    {
      "cell_type": "code",
      "execution_count": null,
      "metadata": {
        "colab": {
          "base_uri": "https://localhost:8080/"
        },
        "id": "easyS5N1a2Nr",
        "outputId": "354123bf-4797-40b2-b502-a8434c8d5073"
      },
      "outputs": [
        {
          "name": "stdout",
          "output_type": "stream",
          "text": [
            "200\n"
          ]
        },
        {
          "data": {
            "text/plain": [
              "{'accountId': 'v3zCCUH3X-uNMbbuUjEG2gFyZNWLg9Ae90e1Q0cK6NkRtT8',\n",
              " 'id': 'GsljIOTWbXZtqbXOcsu1hD-GVm0j1RIJasXaFLp0Wqd-mxs',\n",
              " 'name': 'marksman banter',\n",
              " 'profileIconId': 744,\n",
              " 'puuid': 'PQnN73aMaelT_fy8f-yYdIu45k_F_ZAFuXHnjZ54GjOcre7mqwd5W2LdFuGUyzBBy7K7dt9ulWSRZg',\n",
              " 'revisionDate': 1637173531000,\n",
              " 'summonerLevel': 123}"
            ]
          },
          "execution_count": 13,
          "metadata": {},
          "output_type": "execute_result"
        }
      ],
      "source": [
        "import json, requests\n",
        "\n",
        "r = requests.get('https://eun1.api.riotgames.com/lol/summoner/v4/summoners/by-name/Marksman Banter?api_key=RGAPI-3b328942-1eca-4f43-997c-5c61613a00ab')\n",
        "print(r.status_code)\n",
        "r.json()"
      ]
    },
    {
      "cell_type": "code",
      "execution_count": null,
      "metadata": {
        "colab": {
          "base_uri": "https://localhost:8080/"
        },
        "id": "G7FU5VZkecA0",
        "outputId": "52aa4d7d-d5db-4190-c15c-02d5670f5168"
      },
      "outputs": [
        {
          "name": "stdout",
          "output_type": "stream",
          "text": [
            "200\n"
          ]
        },
        {
          "data": {
            "text/plain": [
              "dict_keys(['Aatrox', 'Ahri', 'Akali', 'Akshan', 'Alistar', 'Amumu', 'Anivia', 'Annie', 'Aphelios', 'Ashe', 'AurelionSol', 'Azir', 'Bard', 'Blitzcrank', 'Brand', 'Braum', 'Caitlyn', 'Camille', 'Cassiopeia', 'Chogath', 'Corki', 'Darius', 'Diana', 'Draven', 'DrMundo', 'Ekko', 'Elise', 'Evelynn', 'Ezreal', 'Fiddlesticks', 'Fiora', 'Fizz', 'Galio', 'Gangplank', 'Garen', 'Gnar', 'Gragas', 'Graves', 'Gwen', 'Hecarim', 'Heimerdinger', 'Illaoi', 'Irelia', 'Ivern', 'Janna', 'JarvanIV', 'Jax', 'Jayce', 'Jhin', 'Jinx', 'Kaisa', 'Kalista', 'Karma', 'Karthus', 'Kassadin', 'Katarina', 'Kayle', 'Kayn', 'Kennen', 'Khazix', 'Kindred', 'Kled', 'KogMaw', 'Leblanc', 'LeeSin', 'Leona', 'Lillia', 'Lissandra', 'Lucian', 'Lulu', 'Lux', 'Malphite', 'Malzahar', 'Maokai', 'MasterYi', 'MissFortune', 'MonkeyKing', 'Mordekaiser', 'Morgana', 'Nami', 'Nasus', 'Nautilus', 'Neeko', 'Nidalee', 'Nocturne', 'Nunu', 'Olaf', 'Orianna', 'Ornn', 'Pantheon', 'Poppy', 'Pyke', 'Qiyana', 'Quinn', 'Rakan', 'Rammus', 'RekSai', 'Rell', 'Renekton', 'Rengar', 'Riven', 'Rumble', 'Ryze', 'Samira', 'Sejuani', 'Senna', 'Seraphine', 'Sett', 'Shaco', 'Shen', 'Shyvana', 'Singed', 'Sion', 'Sivir', 'Skarner', 'Sona', 'Soraka', 'Swain', 'Sylas', 'Syndra', 'TahmKench', 'Taliyah', 'Talon', 'Taric', 'Teemo', 'Thresh', 'Tristana', 'Trundle', 'Tryndamere', 'TwistedFate', 'Twitch', 'Udyr', 'Urgot', 'Varus', 'Vayne', 'Veigar', 'Velkoz', 'Vex', 'Vi', 'Viego', 'Viktor', 'Vladimir', 'Volibear', 'Warwick', 'Xayah', 'Xerath', 'XinZhao', 'Yasuo', 'Yone', 'Yorick', 'Yuumi', 'Zac', 'Zed', 'Ziggs', 'Zilean', 'Zoe', 'Zyra'])"
            ]
          },
          "execution_count": 16,
          "metadata": {},
          "output_type": "execute_result"
        }
      ],
      "source": [
        "r = requests.get('http://ddragon.leagueoflegends.com/cdn/11.23.1/data/en_US/champion.json')\n",
        "print(r.status_code)\n",
        "r.json()['data'].keys()"
      ]
    },
    {
      "cell_type": "markdown",
      "metadata": {
        "id": "fYAVtb0luohI"
      },
      "source": [
        "## 3.4. Practical use of dictionaries using previous homework."
      ]
    },
    {
      "cell_type": "markdown",
      "metadata": {},
      "source": [
        "Creating one dictionary called available_stock which includes those products and their parameters:\n",
        "- milk - for 4 PLN - 2 available,\n",
        "- water - for 0.5 PLN - 2 available,\n",
        "- bread - for 1 PLN - 10 available,\n",
        "- butter - for 5 PLN - 1 available,\n",
        "- apple - for 2.1 PLN - 1 available,\n",
        "- coffee - for 7.5 PLN - 3 available"
      ]
    },
    {
      "cell_type": "markdown",
      "metadata": {},
      "source": [
        "### Response"
      ]
    },
    {
      "cell_type": "code",
      "execution_count": null,
      "metadata": {
        "id": "Ag5BWyFAuohI"
      },
      "outputs": [],
      "source": [
        "# Creating one dictionary called available_stock which includes those products and their parameters\n",
        "\n",
        "# milk - for 4 PLN - 2 available,\n",
        "# water - for 0.5 PLN - 2 available,\n",
        "# bread - for 1 PLN - 10 available,\n",
        "# butter - for 5 PLN - 1 available,\n",
        "# apple - for 2.1 PLN - 1 available,\n",
        "# coffee - for 7.5 PLN - 3 available\n",
        "\n",
        "available_stock = {\n",
        "    'milk': {\n",
        "        'price' : 4,\n",
        "        'availability' : 2\n",
        "    },\n",
        "    'water': {\n",
        "        'price' : 0.5,\n",
        "        'availability' : 2\n",
        "    },\n",
        "    'bread': {\n",
        "        'price' : 1,\n",
        "        'availability' : 10\n",
        "    },\n",
        "    'butter': {\n",
        "        'price' : 5,\n",
        "        'availability' : 1\n",
        "    },\n",
        "    'apple': {\n",
        "        'price' : 2.1,\n",
        "        'availability' : 1\n",
        "    },\n",
        "    'coffee': {\n",
        "        'price' : 7.5,\n",
        "        'availability' : 3\n",
        "    }\n",
        "}\n"
      ]
    },
    {
      "cell_type": "markdown",
      "metadata": {
        "id": "mfC3nZ5KuohI"
      },
      "source": [
        "# Topic 4: Functions!\n",
        "1. The idea of functions.\n",
        "2. How to make functions?\n",
        "3. More advanced functions.\n",
        "4. Practical use of functions using previous homework."
      ]
    },
    {
      "cell_type": "markdown",
      "metadata": {
        "id": "Prm6S1KLuohJ"
      },
      "source": [
        "## 4.1. The idea of functions\n"
      ]
    },
    {
      "cell_type": "markdown",
      "metadata": {},
      "source": [
        "- A function is a block of code which only **runs when it is called**.\n",
        "- You can pass data, known as **parameters**, into a function.\n",
        "- A function can return data as a result.\n",
        "\n",
        "From a function's perspective:\n",
        "- A parameter is the variable listed inside the parentheses in the function definition.\n",
        "- An argument is the value that is sent to the function when it is called.\n",
        "- Arguments are specified after the function name, inside the parentheses. You can add as many arguments as you want, just separate them with a comma."
      ]
    },
    {
      "cell_type": "markdown",
      "metadata": {
        "id": "fPlA-da9uohJ"
      },
      "source": [
        "## 4.2. How to make functions?"
      ]
    },
    {
      "cell_type": "markdown",
      "metadata": {},
      "source": [
        "### Basics"
      ]
    },
    {
      "cell_type": "code",
      "execution_count": null,
      "metadata": {
        "colab": {
          "base_uri": "https://localhost:8080/"
        },
        "id": "gKrpavRnuohJ",
        "outputId": "8f5d5236-c597-4036-8517-45ee44cf33aa"
      },
      "outputs": [
        {
          "name": "stdout",
          "output_type": "stream",
          "text": [
            "kotkot\n",
            "4\n",
            "6\n",
            "Multiplication: 16\n",
            "Sum of: 8\n"
          ]
        }
      ],
      "source": [
        "def my_function(parameter):\n",
        "    calculation = parameter * 2\n",
        "    return calculation\n",
        "\n",
        "print(my_function('kot'))   # 1st print\n",
        "print(my_function(parameter=2)) # 2nd print\n",
        "\n",
        "def my_function_multiple(parameter1,parameter2):\n",
        "    calculation = parameter1 * parameter2\n",
        "    return calculation\n",
        "\n",
        "print(my_function_multiple(2,3))    # 3rd print\n",
        "\n",
        "def my_function_multiple_out(parameter1,parameter2):\n",
        "    multiplication = parameter1 * parameter2\n",
        "    sum_of = parameter1 + parameter2\n",
        "    return multiplication, sum_of\n",
        "\n",
        "multiplication, sum_of = my_function_multiple_out(4,4)\n",
        "print(f\"Multiplication: {multiplication}\\nSum of: {sum_of}\")"
      ]
    },
    {
      "cell_type": "markdown",
      "metadata": {},
      "source": [
        "### Functions with *args:"
      ]
    },
    {
      "cell_type": "code",
      "execution_count": null,
      "metadata": {
        "colab": {
          "base_uri": "https://localhost:8080/"
        },
        "id": "mCDQa8cquohK",
        "outputId": "a3229741-5be6-4dc9-da15-28f6d580a567"
      },
      "outputs": [
        {
          "name": "stdout",
          "output_type": "stream",
          "text": [
            "('kot', 'kot')\n",
            "('kot', 'pies', 'kot', 'pies')\n"
          ]
        }
      ],
      "source": [
        "def my_function_args(*args):\n",
        "    calc = args*2\n",
        "    print(calc)\n",
        "\n",
        "my_function_args('kot')\n",
        "my_function_args('kot','pies')"
      ]
    },
    {
      "cell_type": "markdown",
      "metadata": {},
      "source": [
        "### Functions with **kwargs:"
      ]
    },
    {
      "cell_type": "code",
      "execution_count": null,
      "metadata": {
        "colab": {
          "base_uri": "https://localhost:8080/",
          "height": 71
        },
        "id": "1ZR9eLFGuohL",
        "outputId": "c6950e2a-71ae-4a2a-e0f9-fcb14986b72e"
      },
      "outputs": [
        {
          "name": "stdout",
          "output_type": "stream",
          "text": [
            "kot\n",
            "pies\n"
          ]
        },
        {
          "data": {
            "application/vnd.google.colaboratory.intrinsic+json": {
              "type": "string"
            },
            "text/plain": [
              "'kotkotpiespies'"
            ]
          },
          "execution_count": 7,
          "metadata": {},
          "output_type": "execute_result"
        }
      ],
      "source": [
        "def my_function_kwargs(**kwargs):\n",
        "    result = \"\"\n",
        "    # Iterating over the Python kwargs dictionary\n",
        "    for arg in kwargs.values():\n",
        "        print(arg)\n",
        "        result += arg*2\n",
        "    return result\n",
        "\n",
        "my_function_kwargs(a='kot', b='pies')"
      ]
    },
    {
      "cell_type": "markdown",
      "metadata": {},
      "source": [
        "### Specifying parameters:"
      ]
    },
    {
      "cell_type": "code",
      "execution_count": null,
      "metadata": {
        "colab": {
          "base_uri": "https://localhost:8080/"
        },
        "id": "b_YUCVNzuohL",
        "outputId": "c72d3b66-5c92-4f26-a28f-0ab0b08b9cdd"
      },
      "outputs": [
        {
          "name": "stdout",
          "output_type": "stream",
          "text": [
            "Russia\n",
            "Poland\n"
          ]
        }
      ],
      "source": [
        "def my_function_default(country='Poland'):\n",
        "    print(country)\n",
        "\n",
        "my_function_default('Russia')\n",
        "my_function_default()"
      ]
    },
    {
      "cell_type": "markdown",
      "metadata": {},
      "source": [
        "### Recursive function:"
      ]
    },
    {
      "cell_type": "code",
      "execution_count": null,
      "metadata": {
        "colab": {
          "base_uri": "https://localhost:8080/"
        },
        "id": "UcKNrorJuohM",
        "outputId": "8563947c-361b-4dd2-d26e-f4a1f69f9b0b"
      },
      "outputs": [
        {
          "name": "stdout",
          "output_type": "stream",
          "text": [
            "1\n",
            "3\n",
            "6\n",
            "10\n",
            "15\n"
          ]
        },
        {
          "data": {
            "text/plain": [
              "15"
            ]
          },
          "execution_count": 9,
          "metadata": {},
          "output_type": "execute_result"
        }
      ],
      "source": [
        "def recursive_func(x):\n",
        "    if(x > 0):\n",
        "        result = x + recursive_func(x - 1)\n",
        "        print(result)\n",
        "    else:\n",
        "        result = 0\n",
        "    return result\n",
        "\n",
        "recursive_func(5)"
      ]
    },
    {
      "cell_type": "markdown",
      "metadata": {
        "id": "olBuepSwuohM"
      },
      "source": [
        "## 4.3. More advanced functions"
      ]
    },
    {
      "cell_type": "markdown",
      "metadata": {
        "id": "K33CjAmvuohM"
      },
      "source": [
        "### Lambda functions"
      ]
    },
    {
      "cell_type": "code",
      "execution_count": 36,
      "metadata": {
        "colab": {
          "base_uri": "https://localhost:8080/"
        },
        "id": "WT5p2-79uohN",
        "outputId": "3a9f2e1d-8e0a-4ef5-9474-9c4ad512608b"
      },
      "outputs": [
        {
          "data": {
            "text/plain": "4"
          },
          "execution_count": 36,
          "metadata": {},
          "output_type": "execute_result"
        }
      ],
      "source": [
        "def multiply_by_2(parameter):\n",
        "    return parameter * 2\n",
        "multiply_by_2(2)"
      ]
    },
    {
      "cell_type": "code",
      "execution_count": null,
      "metadata": {
        "colab": {
          "base_uri": "https://localhost:8080/"
        },
        "id": "3EF_mAjeuohN",
        "outputId": "0f9d93e8-78ba-4506-b77f-af40d78b29c6"
      },
      "outputs": [
        {
          "data": {
            "text/plain": [
              "4"
            ]
          },
          "execution_count": 11,
          "metadata": {},
          "output_type": "execute_result"
        }
      ],
      "source": [
        "lambda_function = lambda parameter: parameter * 2\n",
        "lambda_function(2)"
      ]
    },
    {
      "cell_type": "markdown",
      "metadata": {
        "id": "u2_PZpoOuohN"
      },
      "source": [
        "### Mapping functions"
      ]
    },
    {
      "cell_type": "code",
      "execution_count": 37,
      "metadata": {
        "colab": {
          "base_uri": "https://localhost:8080/"
        },
        "id": "yVOksfR3uohO",
        "outputId": "9fcb3e58-b06d-4aa9-9225-3d5087013f20"
      },
      "outputs": [
        {
          "name": "stdout",
          "output_type": "stream",
          "text": [
            "[2, 4, 6, 8, 10, 12, 14, 16, 18, 20]\n"
          ]
        }
      ],
      "source": [
        "some_list = [1,2,3,4,5,6,7,8,9,10]\n",
        "\n",
        "mapped_output = map(multiply_by_2, some_list)\n",
        "print(list(mapped_output))"
      ]
    },
    {
      "cell_type": "markdown",
      "metadata": {
        "id": "M23tYbxmuohO"
      },
      "source": [
        "### Filtering functions"
      ]
    },
    {
      "cell_type": "code",
      "execution_count": null,
      "metadata": {
        "colab": {
          "base_uri": "https://localhost:8080/"
        },
        "id": "5RHavaAhuohO",
        "outputId": "5568929a-c7dc-4058-cf5d-c3f9cc1e0064"
      },
      "outputs": [
        {
          "name": "stdout",
          "output_type": "stream",
          "text": [
            "[2, 4, 6, 8, 10]\n"
          ]
        }
      ],
      "source": [
        "some_list = [1,2,3,4,5,6,7,8,9,10]\n",
        "\n",
        "def filtering_function(num):\n",
        "    if num % 2 == 0:\n",
        "        return True\n",
        "    else:\n",
        "        return False\n",
        "\n",
        "filtered_list = filter(filtering_function, some_list)\n",
        "print(list(filtered_list))"
      ]
    },
    {
      "cell_type": "markdown",
      "metadata": {},
      "source": [
        "### Vectorizing functions"
      ]
    },
    {
      "cell_type": "markdown",
      "metadata": {},
      "source": [
        "Why do we vectorize functions?\n",
        "- mostly to boost the performance of the code\n",
        "- when we want to apply the function to all arguments at once instead of iteration over them"
      ]
    },
    {
      "cell_type": "code",
      "execution_count": 38,
      "metadata": {},
      "outputs": [
        {
          "data": {
            "text/plain": "array([ 2,  4,  6,  8, 10, 12, 14, 16, 18, 20])"
          },
          "execution_count": 38,
          "metadata": {},
          "output_type": "execute_result"
        }
      ],
      "source": [
        "import numpy as np\n",
        "\n",
        "some_list = [1,2,3,4,5,6,7,8,9,10]\n",
        "\n",
        "multiply_by_2_vectorized = np.vectorize(multiply_by_2)\n",
        "multiply_by_2_vectorized(some_list)"
      ]
    },
    {
      "cell_type": "markdown",
      "metadata": {
        "id": "HW0kz7gHuohP"
      },
      "source": [
        "## 4.4. Practical use of functions using previous homework."
      ]
    },
    {
      "cell_type": "code",
      "execution_count": null,
      "metadata": {
        "colab": {
          "base_uri": "https://localhost:8080/"
        },
        "id": "QiKYv-7suohP",
        "outputId": "6e44c25c-3355-4d01-d305-c8fe56467e2c"
      },
      "outputs": [
        {
          "name": "stdout",
          "output_type": "stream",
          "text": [
            "What would you like to add to the basket?milk\n",
            "Added milk to the basket!\n",
            "What would you like to add to the basket?milk\n",
            "Added another milk to the basket!\n",
            "What would you like to add to the basket?milk\n",
            "Sorry, milk is out of stock :(\n",
            "What would you like to add to the basket?done\n",
            "The bill:\n",
            " * Milk - 2x4.0PLN = 8.0\n",
            " Total value of the bill: 8.0 PLN\n"
          ]
        }
      ],
      "source": [
        "# milk - for 4 PLN - 2 available,\n",
        "# water - for 0.5 PLN - 2 available,\n",
        "# bread - for 1 PLN - 10 available,\n",
        "# butter - for 5 PLN - 1 available,\n",
        "# apple - for 2.1 PLN - 1 available,\n",
        "# coffee - for 7.5 PLN - 3 available\n",
        "\n",
        "available_stock = {\n",
        "    'milk': {\n",
        "        'price' : 4,\n",
        "        'availability' : 2\n",
        "    },\n",
        "    'water': {\n",
        "        'price' : 0.5,\n",
        "        'availability' : 2\n",
        "    },\n",
        "    'bread': {\n",
        "        'price' : 1,\n",
        "        'availability' : 10\n",
        "    },\n",
        "    'butter': {\n",
        "        'price' : 5,\n",
        "        'availability' : 1\n",
        "    },\n",
        "    'apple': {\n",
        "        'price' : 2.1,\n",
        "        'availability' : 1\n",
        "    },\n",
        "    'coffee': {\n",
        "        'price' : 7.5,\n",
        "        'availability' : 3\n",
        "    }\n",
        "}\n",
        "\n",
        "\n",
        "basket = {}\n",
        "\n",
        "def count_total(basket):\n",
        "    total_value = 0.0\n",
        "    bill = ''\n",
        "    for product in basket.keys():\n",
        "        product_amount = basket[product]['amount']\n",
        "        product_price = basket[product]['price']\n",
        "        product_value = product_amount * product_price\n",
        "        total_value += product_value\n",
        "        bill += f\" * {product.capitalize()} - {product_amount}x{float(product_price)}PLN = {float(product_value)}\\n\"\n",
        "    return total_value, bill\n",
        "\n",
        "user_input=''\n",
        "\n",
        "while user_input != 'done':\n",
        "    user_input = input('What would you like to add to the basket?').lower()\n",
        "\n",
        "    if user_input in available_stock.keys():\n",
        "        if available_stock[user_input]['availability'] > 0:\n",
        "            available_stock[user_input]['availability'] -= 1\n",
        "            if user_input in basket.keys():\n",
        "                basket[user_input]['amount'] += 1\n",
        "                print(f'Added another {user_input} to the basket!')\n",
        "            else:\n",
        "                basket[user_input] = {\n",
        "                    'amount':1,\n",
        "                    'price':available_stock[user_input]['price']\n",
        "                }\n",
        "                print(f'Added {user_input} to the basket!')\n",
        "        else:\n",
        "            print(f'Sorry, {user_input} is out of stock :(')\n",
        "    elif user_input == 'done':\n",
        "        pass\n",
        "    else:\n",
        "        print(f\"I don't recognize product called {user_input}\")\n",
        "\n",
        "total_value, bill_info = count_total(basket)\n",
        "print(f'The bill:\\n{bill_info} Total value of the bill: {total_value} PLN')\n",
        "\n"
      ]
    },
    {
      "cell_type": "markdown",
      "metadata": {
        "id": "XGOdLny3uohP"
      },
      "source": [
        "# Topic 5: Time to practice!"
      ]
    },
    {
      "cell_type": "markdown",
      "metadata": {
        "id": "awr8PX83uohQ"
      },
      "source": [
        "## 1. Make a dictionary called favourite_songs which includes your top 5 favourite songs. Take parameters like top_1, top_2 etc. as keys of this dictionary. To those keys assign dictionaries as values. In those inside dictionaries include information of title of the song, author of the song and approx. length of the song in minutes as integer."
      ]
    },
    {
      "cell_type": "code",
      "execution_count": null,
      "metadata": {},
      "outputs": [],
      "source": []
    },
    {
      "cell_type": "markdown",
      "metadata": {},
      "source": [
        "### Solution:"
      ]
    },
    {
      "cell_type": "code",
      "execution_count": 41,
      "metadata": {},
      "outputs": [],
      "source": [
        "favourite_songs = {\n",
        "    'top_1': {\n",
        "        'song_name' : 'name1',\n",
        "        'author_name' : 'name1',\n",
        "        'duration' : 5\n",
        "    },\n",
        "    'top_2': {\n",
        "        'song_name' : 'name2',\n",
        "        'author_name' : 'name2',\n",
        "        'duration' : 6\n",
        "    },\n",
        "    'top_3': {\n",
        "        'song_name' : 'name3',\n",
        "        'author_name' : 'name3',\n",
        "        'duration' : 7\n",
        "    },\n",
        "    'top_4': {\n",
        "        'song_name' : 'name4',\n",
        "        'author_name' : 'name4',\n",
        "        'duration' : 8\n",
        "    },\n",
        "    'top_5': {\n",
        "        'song_name' : 'name5',\n",
        "        'author_name' : 'name5',\n",
        "        'duration' : 2\n",
        "    },\n",
        "}"
      ]
    },
    {
      "cell_type": "markdown",
      "metadata": {
        "id": "FPLzvp5juohQ"
      },
      "source": [
        "## 2. Define a function print_favourite which prints the song name and author of all songs included in favourite_songs dictionary. Print it like \"Never gonna give you up by Rick Astley\"."
      ]
    },
    {
      "cell_type": "code",
      "execution_count": null,
      "metadata": {},
      "outputs": [],
      "source": []
    },
    {
      "cell_type": "markdown",
      "metadata": {},
      "source": [
        "### Solution:"
      ]
    },
    {
      "cell_type": "code",
      "execution_count": 60,
      "metadata": {},
      "outputs": [
        {
          "name": "stdout",
          "output_type": "stream",
          "text": [
            "name1 by name1\n",
            "name2 by name2\n",
            "name3 by name3\n",
            "name4 by name4\n",
            "name5 by name5\n"
          ]
        }
      ],
      "source": [
        "def print_favourite(dictionary):\n",
        "    for song in dictionary.values():\n",
        "        print(f\"{song['song_name']} by {song['author_name']}\")\n",
        "\n",
        "print_favourite(favourite_songs)\n"
      ]
    },
    {
      "cell_type": "markdown",
      "metadata": {
        "id": "YrbwC6XXuohQ"
      },
      "source": [
        "## 3. Define a function playlist_duration which prints the sum of length of all songs included in favourite_songs dictionary."
      ]
    },
    {
      "cell_type": "code",
      "execution_count": null,
      "metadata": {},
      "outputs": [],
      "source": []
    },
    {
      "cell_type": "markdown",
      "metadata": {},
      "source": [
        "### Solution:"
      ]
    },
    {
      "cell_type": "code",
      "execution_count": 61,
      "metadata": {},
      "outputs": [
        {
          "data": {
            "text/plain": "28"
          },
          "execution_count": 61,
          "metadata": {},
          "output_type": "execute_result"
        }
      ],
      "source": [
        "def playlist_duration(dictionary):\n",
        "    duration = 0\n",
        "    for song in dictionary.values():\n",
        "        duration += song['duration']\n",
        "\n",
        "    return duration\n",
        "\n",
        "playlist_duration(favourite_songs)"
      ]
    },
    {
      "cell_type": "markdown",
      "metadata": {
        "id": "RNvcvWcPuohQ"
      },
      "source": [
        "## 4. Define a function which takes 3 parameters like song_name, author_name and duration and returns a dictionary of a song."
      ]
    },
    {
      "cell_type": "code",
      "execution_count": null,
      "metadata": {},
      "outputs": [],
      "source": []
    },
    {
      "cell_type": "markdown",
      "metadata": {},
      "source": [
        "### Solution:"
      ]
    },
    {
      "cell_type": "code",
      "execution_count": 62,
      "metadata": {},
      "outputs": [
        {
          "data": {
            "text/plain": "{'song_name': 'Szafir', 'author_name': 'Mata', 'duration': 3}"
          },
          "execution_count": 62,
          "metadata": {},
          "output_type": "execute_result"
        }
      ],
      "source": [
        "def song_function(song_name, author_name, duration):\n",
        "    return {\n",
        "        'song_name' : song_name,\n",
        "        'author_name' : author_name,\n",
        "        'duration' : duration\n",
        "    }\n",
        "\n",
        "song_function('Szafir','Mata',3)"
      ]
    },
    {
      "cell_type": "markdown",
      "metadata": {
        "id": "atA6OmjNuohR"
      },
      "source": [
        "## 5. Create a program which creates a favourite_playlist dictionary. Main assumptions:\n",
        "- The favourite_playlist can contain maximally 10 songs which are stored like in favourite_songs dictionary.\n",
        "- The keys of favourite_playlist have to be called 'song_1', 'song_2', etc. and must be maintained in order. Example: {'song_1':{'song_name' ; 'Szklanki', 'author_name' : 'Young Leosia', 'duration' : 4}}\n",
        "- The first question to user is 'What do you want to do? You can add, delete or exit the playlist maker.'(asking question using input function of course)\n",
        "- After user writes \"add\" the program should ask 3 questions about the song details and add the new song to favourite_playlist with proper key index (song_1 if it's first song in the playlist, etc.) There will be an information printed if the playlist contains 10 songs already.\n",
        "- After writing \"delete\" the program should list all the songs in the favourite_playlist with proper numbers (like \"1. Szklanki, 2. Dwutakt, etc.\") and ask the user which song number he/she wants to delete. After typing the number of the song the song will be deleted from favourite_playlist and all the keys will be updated (if we delete song_2 we have to update the playlist keys so there won't be any empty spaces between songs)\n",
        "- After typing \"exit\" the program will print the message \"Your playlist has x songs! Bye!\"\n",
        "- The assumptions are not constant. Have fun with the task and try modifying it as much as you want (apply some logic or limitations if you want to)\n",
        "\n",
        "Useful hints:\n",
        "- Remeber about f-string formatting => f\"something_{number}\"\n",
        "- len() function returns an integer how many items are in the object\n",
        "- input('Question regarding wanted output') returns a string but in case of commands it's a good practice to apply .lower() method to the string so after typing \"ExIt\" it will convert it to \"exit\" anyway\n",
        "- make some functions and use them wisely in the program. Have fun a little!\n",
        "- use everything you know and don't be afraid to google stuff!\n"
      ]
    },
    {
      "cell_type": "code",
      "execution_count": null,
      "metadata": {},
      "outputs": [],
      "source": []
    },
    {
      "cell_type": "markdown",
      "metadata": {},
      "source": [
        "### Solution to task number 5:"
      ]
    },
    {
      "cell_type": "code",
      "execution_count": null,
      "metadata": {
        "colab": {
          "base_uri": "https://localhost:8080/"
        },
        "id": "9iGlJy-luohR",
        "outputId": "f0c515f2-5391-4269-acff-135023b85c01"
      },
      "outputs": [
        {
          "name": "stdout",
          "output_type": "stream",
          "text": [
            "What do you want to do? You can add, delete or exit the playlist maker.add\n",
            "What's the name of the song?Szklanki\n",
            "Who's an artist?Young Leosia\n",
            "What's the approx. duration (as integer)?3\n",
            "Added Szklanki to the playlist!\n",
            "What do you want to do? You can add, delete or exit the playlist maker.add\n",
            "What's the name of the song?Dwutakt\n",
            "Who's an artist?Alberto\n",
            "What's the approx. duration (as integer)?3\n",
            "Added Dwutakt to the playlist!\n",
            "What do you want to do? You can add, delete or exit the playlist maker.delete\n",
            "1. Szklanki\n",
            "2. Dwutakt\n",
            "Which song number you want to remove? (insert proper integer)1\n",
            "Successfully deleted song number 1\n",
            "What do you want to do? You can add, delete or exit the playlist maker.exit\n",
            "Your playlist has 1 songs. Bye!\n"
          ]
        }
      ],
      "source": [
        "def add_song(song_name, author_name, duration):\n",
        "    made_dictionary = {\n",
        "        'song_name' : song_name,\n",
        "        'author_name' : author_name,\n",
        "        'duration' : int(duration)\n",
        "    }\n",
        "    return made_dictionary\n",
        "\n",
        "def list_names(dictionary):\n",
        "    \n",
        "    number = 0\n",
        "    for song in dictionary.keys():\n",
        "        number += 1\n",
        "        print(f\"{number}. {dictionary[song]['song_name']}\")\n",
        "\n",
        "def update_dictionary_keys(dictionary):\n",
        "    new_dictionary = {}\n",
        "    for song in dictionary.values():\n",
        "        new_dictionary[f\"song_{len(new_dictionary)+1}\"] = song\n",
        "    return new_dictionary\n",
        "\n",
        "user_input=''       \n",
        "favourite_playlist = {}\n",
        "\n",
        "while user_input != 'exit':\n",
        "    user_input = input('What do you want to do? You can add, delete or exit the playlist maker.').lower()\n",
        "\n",
        "    if user_input == 'add':\n",
        "        if len(favourite_playlist) == 10:\n",
        "            print(\"Sorry! There are already 10 songs in the playlist. Try deleting some of them.\")\n",
        "            pass\n",
        "        else:\n",
        "            song_input = input(\"What's the name of the song?\")\n",
        "            author_input = input(\"Who's an artist?\")\n",
        "            duration_input = input(\"What's the approx. duration (as integer)?\")\n",
        "\n",
        "            favourite_playlist[f'song_{len(favourite_playlist)+1}'] = add_song(song_input,author_input,duration_input)      # calling add_song function desribed at the top\n",
        "            print(f\"Added {song_input} to the playlist!\")\n",
        "    \n",
        "    elif user_input == 'delete':\n",
        "        if len(favourite_playlist) == 0:\n",
        "            print('There are no songs in the playlist so I can not remove anything')\n",
        "            pass\n",
        "        else:\n",
        "            list_names(favourite_playlist)      # calling list_names function described at the top\n",
        "\n",
        "            delete_input = input(\"Which song number you want to remove? (insert proper integer)\")\n",
        "\n",
        "            favourite_playlist.pop(f\"song_{delete_input}\")\n",
        "            favourite_playlist = update_dictionary_keys(favourite_playlist)     # calling update_dictionary_keys function described at the top\n",
        "            print(f\"Successfully deleted song number {delete_input}\")\n",
        "\n",
        "\n",
        "if len(favourite_playlist) == 0:\n",
        "    print(\"You did not even add any song but okay... Bye!\")\n",
        "else:\n",
        "    print(f\"Your playlist has {len(favourite_playlist)} songs. Bye!\")\n"
      ]
    },
    {
      "cell_type": "code",
      "execution_count": null,
      "metadata": {
        "id": "jxgaQgr9uohR"
      },
      "outputs": [],
      "source": []
    }
  ],
  "metadata": {
    "kernelspec": {
      "display_name": "Python 3.9.5 64-bit",
      "name": "python395jvsc74a57bd07812ea015bdcee6f23a998adcdd2ef97c151c0c241b7b7070987d9313e41299d"
    },
    "language_info": {
      "codemirror_mode": {
        "name": "ipython",
        "version": 3
      },
      "file_extension": ".py",
      "mimetype": "text/x-python",
      "name": "python",
      "nbconvert_exporter": "python",
      "pygments_lexer": "ipython3",
      "version": "3.9.5"
    },
    "metadata": {
      "interpreter": {
        "hash": "7812ea015bdcee6f23a998adcdd2ef97c151c0c241b7b7070987d9313e41299d"
      }
    },
    "orig_nbformat": 3
  },
  "nbformat": 4,
  "nbformat_minor": 0
}